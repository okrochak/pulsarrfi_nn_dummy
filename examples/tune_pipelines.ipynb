{
 "cells": [
  {
   "cell_type": "markdown",
   "metadata": {},
   "source": [
    "#### Imports"
   ]
  },
  {
   "cell_type": "code",
   "execution_count": 1,
   "metadata": {},
   "outputs": [],
   "source": [
    "from os import chdir\n",
    "import matplotlib.pyplot as plt\n",
    "%matplotlib inline\n",
    "chdir('../')\n",
    "\n",
    "from src import PrepareFreqTimeImage,PipelineImageToMask\n",
    "from src import ImageToMaskDataset\n",
    "from src import UNet,CNN1D,FilterCNN\n",
    "from src import TrainImageToMaskNetworkModel\n",
    "from src import PipelineImageToFilterToCCtoLabels, PipelineImageToFilterDelGraphtoIsPulsar,PipelineImageToCCtoLabels\n",
    "from src import Tuner\n"
   ]
  },
  {
   "cell_type": "markdown",
   "metadata": {},
   "source": [
    "##### Set the Notebook settings"
   ]
  },
  {
   "cell_type": "code",
   "execution_count": 2,
   "metadata": {},
   "outputs": [],
   "source": [
    "need_data_generation:bool = False\n",
    "need_training:bool = False\n"
   ]
  },
  {
   "cell_type": "markdown",
   "metadata": {},
   "source": [
    "#### Set the loaders"
   ]
  },
  {
   "cell_type": "code",
   "execution_count": 3,
   "metadata": {},
   "outputs": [],
   "source": [
    "image_preprocessing_engine = PrepareFreqTimeImage(\n",
    "                                                do_rot_phase_avg=True,\n",
    "                                                do_binarize=False,\n",
    "                                                do_resize=True,\n",
    "                                                resize_size=(128,128),\n",
    "                                                )\n",
    "mask_preprocessing_engine = PrepareFreqTimeImage(\n",
    "                                                do_rot_phase_avg=True,\n",
    "                                                do_binarize=True,\n",
    "                                                do_resize=True,\n",
    "                                                resize_size=(128,128),\n",
    "                                                #BinarizeToMask(binarize_func='gaussian_blur') # or 'exponential'\n",
    "                                                )\n",
    "\n",
    "cnn_model_to_make_mask_path: str = './syn_data/model/trained_UNet_test_v0.pt'\n",
    "mask_maker_engine = PipelineImageToMask(\n",
    "                                image_to_mask_network=UNet(),\n",
    "                                trained_image_to_mask_network_path=cnn_model_to_make_mask_path,                     \n",
    "                                )\n",
    "\n"
   ]
  },
  {
   "cell_type": "markdown",
   "metadata": {},
   "source": [
    "#### Generate dataset and train neural net with different data types"
   ]
  },
  {
   "cell_type": "markdown",
   "metadata": {},
   "source": [
    "- Only Pulsar"
   ]
  },
  {
   "cell_type": "code",
   "execution_count": 4,
   "metadata": {
    "slideshow": {
     "slide_type": "skip"
    }
   },
   "outputs": [],
   "source": [
    "from pulsar_simulation.generate_data_pipeline import generate_example_payloads_for_training\n",
    "\n",
    "#: Run this node only if training and test data needs to be generated\n",
    "if need_data_generation:\n",
    "    generate_example_payloads_for_training(tag='train_only_pulsar_v0_',\n",
    "                                        num_payloads=1000,\n",
    "                                        plot_a_example=False,\n",
    "                                        param_folder='./syn_data/runtime/',\n",
    "                                        payload_folder='./syn_data/payloads/',\n",
    "                                        num_cpus=10, #: choose based on the number of nodes/cores in your system,\n",
    "                                        prob_bbrfi=0,\n",
    "                                        prob_nbrfi=0\n",
    "                                        )\n",
    "\n",
    "    generate_example_payloads_for_training(tag='test_only_pulsar_v0_',\n",
    "                                        num_payloads=1000,\n",
    "                                        plot_a_example=False,\n",
    "                                        param_folder='./syn_data/runtime/',\n",
    "                                        payload_folder='./syn_data/payloads/',\n",
    "                                        num_cpus=10, #: choose based on the number of nodes/cores in your system,\n",
    "                                        prob_bbrfi=0,\n",
    "                                        prob_nbrfi=0\n",
    "                                        )"
   ]
  },
  {
   "cell_type": "markdown",
   "metadata": {},
   "source": [
    "- Set up the datasets for training"
   ]
  },
  {
   "cell_type": "code",
   "execution_count": null,
   "metadata": {},
   "outputs": [],
   "source": [
    "image_tag='train_only_pulsar_v0_*_payload_detected.json' #: '*' in the name is the index place holder of a image in the image set\n",
    "image_directory='./syn_data/payloads/'\n",
    "\n",
    "mask_tag = 'train_only_pulsar_v0_*_payload_flux.json'\n",
    "mask_directory='./syn_data/payloads/'\n",
    "\n",
    "image_mask_train_datasetPulsar = ImageToMaskDataset(\n",
    "                        image_tag = image_tag,\n",
    "                        mask_tag= mask_tag,\n",
    "                        image_directory = image_directory,\n",
    "                        mask_directory = mask_directory,\n",
    "                        image_engine=image_preprocessing_engine,\n",
    "                        mask_engine=mask_preprocessing_engine\n",
    "                        )\n",
    "\n",
    "image_tag='test_only_pulsar_v0_*_payload_detected.json' #: '*' in the name is the index place holder of a image in the image set\n",
    "image_directory='./syn_data/payloads/'\n",
    "\n",
    "mask_tag = 'test_only_pulsar_v0_*_payload_flux.json'\n",
    "mask_directory='./syn_data/payloads/'\n",
    "\n",
    "image_mask_test_datasetPulsar = ImageToMaskDataset(\n",
    "                        image_tag = image_tag,\n",
    "                        mask_tag= mask_tag,\n",
    "                        image_directory = image_directory,\n",
    "                        mask_directory = mask_directory,\n",
    "                        image_engine=image_preprocessing_engine,\n",
    "                        mask_engine=mask_preprocessing_engine\n",
    "                        )\n",
    "#: Plot an example\n",
    "idx = 3\n",
    "image_mask_train_datasetPulsar.plot(index=idx)\n",
    "image_mask_test_datasetPulsar.plot(index=idx)\n"
   ]
  },
  {
   "cell_type": "markdown",
   "metadata": {},
   "source": [
    "- instantiate the trainer"
   ]
  },
  {
   "cell_type": "code",
   "execution_count": 6,
   "metadata": {},
   "outputs": [],
   "source": [
    "from src.pulsar_analysis.neural_network_models import  WeightedBCELoss\n",
    "store_trained_model_image2mask_atPulsar = './syn_data/model/trained_UNet_test_only_pulsar_v0.pt'\n",
    "image2mask_network_trainerPulsar = TrainImageToMaskNetworkModel(\n",
    "                                model=UNet(),\n",
    "                                num_epochs=10,\n",
    "                                store_trained_model_at=store_trained_model_image2mask_atPulsar,\n",
    "                                loss_criterion = WeightedBCELoss(pos_weight=3,neg_weight=1)                                \n",
    "                                )"
   ]
  },
  {
   "cell_type": "markdown",
   "metadata": {},
   "source": [
    "- train"
   ]
  },
  {
   "cell_type": "code",
   "execution_count": 7,
   "metadata": {},
   "outputs": [],
   "source": [
    "if need_training: image2mask_network_trainerPulsar(image_mask_pairset=image_mask_train_datasetPulsar)"
   ]
  },
  {
   "cell_type": "markdown",
   "metadata": {},
   "source": [
    "- Test"
   ]
  },
  {
   "cell_type": "code",
   "execution_count": null,
   "metadata": {},
   "outputs": [],
   "source": [
    "idx = 0\n",
    "image = image_mask_test_datasetPulsar[idx][0]\n",
    "pred = image2mask_network_trainerPulsar.test_model(image=image,plot_pred=True)"
   ]
  },
  {
   "cell_type": "markdown",
   "metadata": {},
   "source": [
    "- Only NBRFI"
   ]
  },
  {
   "cell_type": "code",
   "execution_count": 9,
   "metadata": {},
   "outputs": [],
   "source": [
    "from pulsar_simulation.generate_data_pipeline import generate_example_payloads_for_training\n",
    "\n",
    "#: Run this node only if training and test data needs to be generated\n",
    "if need_data_generation:\n",
    "    generate_example_payloads_for_training(tag='train_only_NBRFI_v0_',\n",
    "                                        num_payloads=1000,\n",
    "                                        plot_a_example=False,\n",
    "                                        param_folder='./syn_data/runtime/',\n",
    "                                        payload_folder='./syn_data/payloads/',\n",
    "                                        num_cpus=10, #: choose based on the number of nodes/cores in your system,\n",
    "                                        prob_bbrfi=0,\n",
    "                                        prob_nbrfi=1,                                       \n",
    "                                        antenna_sensitivity=100\n",
    "                                        )\n",
    "\n",
    "    generate_example_payloads_for_training(tag='test_only_NBRFI_v0_',\n",
    "                                        num_payloads=1000,\n",
    "                                        plot_a_example=False,\n",
    "                                        param_folder='./syn_data/runtime/',\n",
    "                                        payload_folder='./syn_data/payloads/',\n",
    "                                        num_cpus=10, #: choose based on the number of nodes/cores in your system,\n",
    "                                        prob_bbrfi=0,\n",
    "                                        prob_nbrfi=1,                                       \n",
    "                                        antenna_sensitivity=100\n",
    "                                        )"
   ]
  },
  {
   "cell_type": "markdown",
   "metadata": {},
   "source": [
    "- Set up the datasets for training"
   ]
  },
  {
   "cell_type": "code",
   "execution_count": null,
   "metadata": {},
   "outputs": [],
   "source": [
    "image_tag='train_only_NBRFI_v0_*_payload_detected.json' #: '*' in the name is the index place holder of a image in the image set\n",
    "image_directory='./syn_data/payloads/'\n",
    "\n",
    "mask_tag = 'train_only_NBRFI_v0_*_payload_flux.json'\n",
    "mask_directory='./syn_data/payloads/'\n",
    "\n",
    "image_mask_train_datasetNBRFI = ImageToMaskDataset(\n",
    "                        image_tag = image_tag,\n",
    "                        mask_tag= mask_tag,\n",
    "                        image_directory = image_directory,\n",
    "                        mask_directory = mask_directory,\n",
    "                        image_engine=image_preprocessing_engine,\n",
    "                        mask_engine=mask_preprocessing_engine\n",
    "                        )\n",
    "\n",
    "image_tag='test_only_NBRFI_v0_*_payload_detected.json' #: '*' in the name is the index place holder of a image in the image set\n",
    "image_directory='./syn_data/payloads/'\n",
    "\n",
    "mask_tag = 'test_only_NBRFI_v0_*_payload_flux.json'\n",
    "mask_directory='./syn_data/payloads/'\n",
    "\n",
    "image_mask_test_datasetNBRFI = ImageToMaskDataset(\n",
    "                        image_tag = image_tag,\n",
    "                        mask_tag= mask_tag,\n",
    "                        image_directory = image_directory,\n",
    "                        mask_directory = mask_directory,\n",
    "                        image_engine=image_preprocessing_engine,\n",
    "                        mask_engine=mask_preprocessing_engine\n",
    "                        )\n",
    "#: Plot an example\n",
    "idx = 8\n",
    "image_mask_train_datasetNBRFI.plot(index=idx)\n",
    "image_mask_test_datasetNBRFI.plot(index=idx)\n"
   ]
  },
  {
   "cell_type": "markdown",
   "metadata": {},
   "source": [
    "- instantiate the trainer"
   ]
  },
  {
   "cell_type": "code",
   "execution_count": 11,
   "metadata": {},
   "outputs": [],
   "source": [
    "from src.pulsar_analysis.neural_network_models import  WeightedBCELoss\n",
    "store_trained_model_image2mask_atNBRFI = './syn_data/model/trained_UNet_test_only_NBRFI_v0.pt'\n",
    "image2mask_network_trainerNBRFI = TrainImageToMaskNetworkModel(\n",
    "                                model=UNet(),\n",
    "                                num_epochs=10,\n",
    "                                store_trained_model_at=store_trained_model_image2mask_atNBRFI,\n",
    "                                loss_criterion = WeightedBCELoss(pos_weight=3,neg_weight=1)                                \n",
    "                                )"
   ]
  },
  {
   "cell_type": "markdown",
   "metadata": {},
   "source": [
    "- train"
   ]
  },
  {
   "cell_type": "code",
   "execution_count": 12,
   "metadata": {},
   "outputs": [],
   "source": [
    "if need_training:image2mask_network_trainerNBRFI(image_mask_pairset=image_mask_train_datasetNBRFI)"
   ]
  },
  {
   "cell_type": "markdown",
   "metadata": {},
   "source": [
    "- Test"
   ]
  },
  {
   "cell_type": "code",
   "execution_count": null,
   "metadata": {},
   "outputs": [],
   "source": [
    "idx = 0\n",
    "image = image_mask_test_datasetNBRFI[idx][0]\n",
    "pred = image2mask_network_trainerNBRFI.test_model(image=image,plot_pred=True)"
   ]
  },
  {
   "cell_type": "markdown",
   "metadata": {},
   "source": [
    "- Only BBRFI"
   ]
  },
  {
   "cell_type": "code",
   "execution_count": 14,
   "metadata": {},
   "outputs": [],
   "source": [
    "from pulsar_simulation.generate_data_pipeline import generate_example_payloads_for_training\n",
    "\n",
    "#: Run this node only if training and test data needs to be generated\n",
    "if  need_data_generation:\n",
    "    generate_example_payloads_for_training(tag='train_only_BBRFI_v0_',\n",
    "                                        num_payloads=1000,\n",
    "                                        plot_a_example=False,\n",
    "                                        param_folder='./syn_data/runtime/',\n",
    "                                        payload_folder='./syn_data/payloads/',\n",
    "                                        num_cpus=10, #: choose based on the number of nodes/cores in your system,\n",
    "                                        prob_bbrfi=1,\n",
    "                                        prob_nbrfi=0,                                       \n",
    "                                        antenna_sensitivity=100\n",
    "                                        )\n",
    "\n",
    "    generate_example_payloads_for_training(tag='test_only_BBRFI_v0_',\n",
    "                                        num_payloads=1000,\n",
    "                                        plot_a_example=False,\n",
    "                                        param_folder='./syn_data/runtime/',\n",
    "                                        payload_folder='./syn_data/payloads/',\n",
    "                                        num_cpus=10, #: choose based on the number of nodes/cores in your system,\n",
    "                                        prob_bbrfi=1,\n",
    "                                        prob_nbrfi=0,                                       \n",
    "                                        antenna_sensitivity=100\n",
    "                                        )"
   ]
  },
  {
   "cell_type": "markdown",
   "metadata": {},
   "source": [
    "- Set up the datasets for training"
   ]
  },
  {
   "cell_type": "code",
   "execution_count": null,
   "metadata": {},
   "outputs": [],
   "source": [
    "image_tag='train_only_BBRFI_v0_*_payload_detected.json' #: '*' in the name is the index place holder of a image in the image set\n",
    "image_directory='./syn_data/payloads/'\n",
    "\n",
    "mask_tag = 'train_only_BBRFI_v0_*_payload_flux.json'\n",
    "mask_directory='./syn_data/payloads/'\n",
    "\n",
    "image_mask_train_datasetBBRFI = ImageToMaskDataset(\n",
    "                        image_tag = image_tag,\n",
    "                        mask_tag= mask_tag,\n",
    "                        image_directory = image_directory,\n",
    "                        mask_directory = mask_directory,\n",
    "                        image_engine=image_preprocessing_engine,\n",
    "                        mask_engine=mask_preprocessing_engine\n",
    "                        )\n",
    "\n",
    "image_tag='test_only_BBRFI_v0_*_payload_detected.json' #: '*' in the name is the index place holder of a image in the image set\n",
    "image_directory='./syn_data/payloads/'\n",
    "\n",
    "mask_tag = 'test_only_BBRFI_v0_*_payload_flux.json'\n",
    "mask_directory='./syn_data/payloads/'\n",
    "\n",
    "image_mask_test_datasetBBRFI = ImageToMaskDataset(\n",
    "                        image_tag = image_tag,\n",
    "                        mask_tag= mask_tag,\n",
    "                        image_directory = image_directory,\n",
    "                        mask_directory = mask_directory,\n",
    "                        image_engine=image_preprocessing_engine,\n",
    "                        mask_engine=mask_preprocessing_engine\n",
    "                        )\n",
    "#: Plot an example\n",
    "idx = 9\n",
    "image_mask_train_datasetBBRFI.plot(index=idx)\n",
    "image_mask_test_datasetBBRFI.plot(index=idx)"
   ]
  },
  {
   "cell_type": "markdown",
   "metadata": {},
   "source": [
    "- instantiate the trainer"
   ]
  },
  {
   "cell_type": "code",
   "execution_count": 16,
   "metadata": {},
   "outputs": [],
   "source": [
    "from src.pulsar_analysis.neural_network_models import  WeightedBCELoss\n",
    "store_trained_model_image2mask_atBBRFI = './syn_data/model/trained_UNet_test_only_BBRFI_v0.pt'\n",
    "image2mask_network_trainerBBRFI = TrainImageToMaskNetworkModel(\n",
    "                                model=UNet(),\n",
    "                                num_epochs=10,\n",
    "                                store_trained_model_at=store_trained_model_image2mask_atBBRFI,\n",
    "                                loss_criterion = WeightedBCELoss(pos_weight=3,neg_weight=1)                                \n",
    "                                )"
   ]
  },
  {
   "cell_type": "markdown",
   "metadata": {},
   "source": [
    "- train"
   ]
  },
  {
   "cell_type": "code",
   "execution_count": 17,
   "metadata": {},
   "outputs": [],
   "source": [
    "if need_training:image2mask_network_trainerBBRFI(image_mask_pairset=image_mask_train_datasetBBRFI)"
   ]
  },
  {
   "cell_type": "markdown",
   "metadata": {},
   "source": [
    "- Test"
   ]
  },
  {
   "cell_type": "code",
   "execution_count": null,
   "metadata": {},
   "outputs": [],
   "source": [
    "idx = 0\n",
    "image = image_mask_test_datasetNBRFI[idx][0]\n",
    "pred = image2mask_network_trainerNBRFI.test_model(image=image,plot_pred=True)"
   ]
  },
  {
   "cell_type": "markdown",
   "metadata": {},
   "source": [
    "- Define pipelines"
   ]
  },
  {
   "cell_type": "code",
   "execution_count": 19,
   "metadata": {},
   "outputs": [],
   "source": [
    "ppl2pulsar = PipelineImageToCCtoLabels(image_to_mask_network=UNet(),\n",
    "                                trained_image_to_mask_network_path=store_trained_model_image2mask_atPulsar,\n",
    "                                min_cc_size_threshold=5\n",
    "                                )\n",
    "\n",
    "ppl2NBRFI = PipelineImageToCCtoLabels(image_to_mask_network=UNet(),\n",
    "                                trained_image_to_mask_network_path=store_trained_model_image2mask_atNBRFI,\n",
    "                                min_cc_size_threshold=5\n",
    "                                )\n",
    "\n",
    "ppl2BBRFI = PipelineImageToCCtoLabels(image_to_mask_network=UNet(),\n",
    "                                trained_image_to_mask_network_path=store_trained_model_image2mask_atBBRFI,\n",
    "                                min_cc_size_threshold=5\n",
    "                                )\n",
    "\n"
   ]
  },
  {
   "cell_type": "markdown",
   "metadata": {},
   "source": [
    "- generate mixed data for testing"
   ]
  },
  {
   "cell_type": "code",
   "execution_count": 20,
   "metadata": {},
   "outputs": [],
   "source": [
    "from pulsar_simulation.generate_data_pipeline import generate_example_payloads_for_training\n",
    "if  need_data_generation:\n",
    "    generate_example_payloads_for_training(tag='test_mixed_v0_',\n",
    "                                        num_payloads=100,\n",
    "                                        plot_a_example=False,\n",
    "                                        param_folder='./syn_data/runtime/',\n",
    "                                        payload_folder='./syn_data/payloads/',\n",
    "                                        num_cpus=10, #: choose based on the number of nodes/cores in your system,\n",
    "                                        prob_bbrfi=0.5,\n",
    "                                        prob_nbrfi=0.5\n",
    "                                        )"
   ]
  },
  {
   "cell_type": "markdown",
   "metadata": {},
   "source": [
    "- make test datasets"
   ]
  },
  {
   "cell_type": "code",
   "execution_count": 21,
   "metadata": {},
   "outputs": [],
   "source": [
    "from src import ImageReader,ImageDataSet,LabelDataSet, LabelReader\n",
    "image_tag='test_mixed_v0_*_payload_detected.json' #: '*' in the name is the index place holder of a image in the image set\n",
    "image_directory='./syn_data/payloads/'\n",
    "\n",
    "mask_tag = 'test_mixed_v0_*_payload_flux.json'\n",
    "mask_directory='./syn_data/payloads/'\n",
    "\n",
    "im_set = ImageDataSet(image_tag=image_tag,image_directory=image_directory,image_reader_engine=ImageReader(do_average=True))\n",
    "m_set = ImageDataSet(image_tag=mask_tag,image_directory=mask_directory,image_reader_engine=ImageReader(do_average=True,do_binarize=True))\n",
    "label_set = LabelDataSet(image_tag=image_tag,image_directory=image_directory,label_reader_engine=LabelReader())"
   ]
  },
  {
   "cell_type": "markdown",
   "metadata": {},
   "source": [
    "- Mixing"
   ]
  },
  {
   "cell_type": "code",
   "execution_count": null,
   "metadata": {},
   "outputs": [],
   "source": [
    "tn = Tuner(sample_of_objects=[ppl2pulsar,ppl2NBRFI,ppl2BBRFI],reset_components=False)"
   ]
  },
  {
   "cell_type": "code",
   "execution_count": null,
   "metadata": {},
   "outputs": [],
   "source": [
    "ppl2mixed = tn()\n",
    "ppl2mixed.display_results_in_batch(image_data_set=im_set,mask_data_set=m_set,label_data_set=label_set,randomize=False,ids_toshow=[9,7])"
   ]
  }
 ],
 "metadata": {
  "kernelspec": {
   "display_name": "env_pulsarSA",
   "language": "python",
   "name": "python3"
  },
  "language_info": {
   "codemirror_mode": {
    "name": "ipython",
    "version": 3
   },
   "file_extension": ".py",
   "mimetype": "text/x-python",
   "name": "python",
   "nbconvert_exporter": "python",
   "pygments_lexer": "ipython3",
   "version": "3.10.11"
  }
 },
 "nbformat": 4,
 "nbformat_minor": 2
}
